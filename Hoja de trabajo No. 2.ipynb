{
 "cells": [
  {
   "cell_type": "markdown",
   "id": "9404d7c7-2a0e-4ff3-a776-0be10af6ce2f",
   "metadata": {},
   "source": [
    "###PRoblema 1"
   ]
  },
  {
   "cell_type": "markdown",
   "id": "d1298f32-061d-4338-8790-298bec1f06d5",
   "metadata": {},
   "source": [
    "try:\n",
    "  segundos= float(input(\"Ingrese un numero: \"))\n",
    "  horas = int(segundos / 60 / 60)\n",
    "  segundos -=int( horas*60*60)\n",
    "  minutos = int(segundos/60)\n",
    "  segundos -=int( minutos*60)\n",
    "  print(\"Horas : \",horas)\n",
    "  print(\"Minutos : \",minutos)\n",
    "  print(\"Segundos : \",segundos)\n",
    "except ValueError:\n",
    "  print(\"Ingreso letra, favor ingreser numero\")"
   ]
  },
  {
   "cell_type": "markdown",
   "id": "75b194f7-d4c4-4aad-b935-4906ace42f42",
   "metadata": {},
   "source": [
    "###Problema 2\n",
    "\n",
    "N=int(input(“Introduce el numero de renglones del triangulo “)\n",
    "For i in range(n+1):\n",
    "     Print(‘*’ *i)\n"
   ]
  },
  {
   "cell_type": "markdown",
   "id": "4ed077a8-795b-49b0-97eb-9d7ca2567f71",
   "metadata": {},
   "source": [
    "##Problema 3\n",
    "#tienes que importar asi\n",
    "from datetime import datetime, date\n",
    "\n",
    "#fecha actual\n",
    "ahora =datetime.now()\n",
    "\n",
    "while True: \n",
    "  fecha_str = input('\\n Ingrese fecha \"aaaa/mm/dd\"...: ') \n",
    "  try: \n",
    "    fecha = datetime.strptime(fecha_str, '%Y/%m/%d')\n",
    "    fecha_str = fecha.strftime('%d-%m-%Y') \n",
    "    print(f'\\n Tu fecha es: {fecha_str}')  \n",
    "  except ValueError: \n",
    "    print(\"\\n No ha ingresado una fecha correcta...\") \n",
    "  else: \n",
    "    break\n",
    "\n",
    "#dias\n",
    "user_days =ahora-fecha\n",
    "user_days = user_days.days\n",
    "\n",
    "#obteniendo años\n",
    "years = user_days//365\n",
    "print(f'tienes {years} años')"
   ]
  },
  {
   "cell_type": "code",
   "execution_count": null,
   "id": "f46a0acb-64f7-495c-9a3d-42a124934b0b",
   "metadata": {},
   "outputs": [],
   "source": [
    "###Problema 4\n",
    "elementos=['10','20', '40','5','70']\n",
    "str = ''.join(elementos)\n",
    "print (str)\n",
    "\n"
   ]
  },
  {
   "cell_type": "code",
   "execution_count": null,
   "id": "c568a5ea-a616-41ed-b0de-89dc14121617",
   "metadata": {},
   "outputs": [],
   "source": [
    "###Problema 5\n",
    "tuplas=[(),(), ('X',),('a','b'),('a','b','c'),('d')]\n",
    "tuplas=[t for t in tuplas if t]"
   ]
  },
  {
   "cell_type": "markdown",
   "id": "1a415dff-f41a-4597-bde2-067315c7869e",
   "metadata": {},
   "source": [
    "###Problema 7\n",
    "A\n",
    "invoices = {}\n",
    "collected = 0\n",
    "remains = 0\n",
    "more = ''\n",
    "while more != 'T':\n",
    "    if more == 'A':\n",
    "        key = input('Introduce el número de la factura: ')\n",
    "        cost = float(input('Introduce el coste de la factura: '))\n",
    "        invoices[key] = cost\n",
    "        remains += cost\n",
    "    if more == 'P':\n",
    "        key = input('Introduce el número de la factura a pagar: ')\n",
    "        cost = invoices.pop(key, 0)\n",
    "        collected += cost\n",
    "        remains -= cost\n",
    "    print('Recaudado:', collected)\n",
    "    print('Pendiente de cobro: ', remains)\n",
    "    more = input('¿Quieres añadir una nueva factura (A), pagarla (P) o terminar (T)? ')\n",
    "\n"
   ]
  },
  {
   "cell_type": "markdown",
   "id": "66ca1d21-0fad-486e-8db9-026fbec655ab",
   "metadata": {},
   "source": [
    "###Problema 8\n"
   ]
  }
 ],
 "metadata": {
  "kernelspec": {
   "display_name": "Python 3 (ipykernel)",
   "language": "python",
   "name": "python3"
  },
  "language_info": {
   "codemirror_mode": {
    "name": "ipython",
    "version": 3
   },
   "file_extension": ".py",
   "mimetype": "text/x-python",
   "name": "python",
   "nbconvert_exporter": "python",
   "pygments_lexer": "ipython3",
   "version": "3.9.13"
  }
 },
 "nbformat": 4,
 "nbformat_minor": 5
}
